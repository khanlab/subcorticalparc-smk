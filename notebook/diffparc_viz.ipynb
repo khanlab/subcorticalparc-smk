{
 "cells": [
  {
   "cell_type": "markdown",
   "id": "3dde0b38-1738-43c7-81be-1cb2ed37e270",
   "metadata": {},
   "source": [
    "# Zona incerta region (ZIR) structural connectivity\n",
    "\n",
    "## Python libraries"
   ]
  },
  {
   "cell_type": "code",
   "execution_count": 40,
   "id": "7f706200-64e0-4278-9319-46968ede7173",
   "metadata": {},
   "outputs": [],
   "source": [
    "import numpy as np\n",
    "import nibabel as nib\n",
    "import nilearn.plotting, nilearn.surface\n",
    "import matplotlib.pyplot as plt\n",
    "from sklearn.cluster import SpectralClustering\n",
    "from sklearn.metrics import pairwise_distances_argmin\n",
    "import pandas as pd\n",
    "import os"
   ]
  },
  {
   "cell_type": "code",
   "execution_count": 2,
   "id": "45f8314a-cb6a-40ff-9956-08dc9e33ae73",
   "metadata": {},
   "outputs": [],
   "source": [
    "# Create custom colour map\n",
    "from matplotlib.colors import ListedColormap\n",
    "\n",
    "cb_color_cycle = [\n",
    "    \"#d3d3d3\",   # Grey \n",
    "    \"#377eb8\",\n",
    "    \"#ff7f00\",\n",
    "    \"#4daf4a\",\n",
    "    \"#f781bf\",\n",
    "    \"#a65628\",\n",
    "    \"#984ea3\",\n",
    "    \"#999999\",\n",
    "    \"#e41a1c\",\n",
    "    \"#dede00\",\n",
    "]"
   ]
  },
  {
   "cell_type": "markdown",
   "id": "735e201d-a9e9-4ee8-96f1-8adb3a49999b",
   "metadata": {
    "tags": []
   },
   "source": [
    "## Variables"
   ]
  },
  {
   "cell_type": "code",
   "execution_count": 22,
   "id": "89a159bc-ea92-4f8a-84eb-44a4353172f1",
   "metadata": {},
   "outputs": [
    {
     "data": {
      "text/plain": [
       "(163842,)"
      ]
     },
     "execution_count": 22,
     "metadata": {},
     "output_type": "execute_result"
    }
   ],
   "source": [
    "# Surface variables\n",
    "lh_mmp = nilearn.surface.load_surf_data(\"../subcorticalparc_smk/resources/lh.HCPMMP1.annot\")\n",
    "#rh_mmp = nilearn.surface.load_surf_data(\"../resources/rh.HCPMMP1.annot\")\n",
    "\n",
    "lh_mmp.shape"
   ]
  },
  {
   "cell_type": "code",
   "execution_count": 59,
   "id": "7a6827ea-935f-4500-bf4d-7457224d3f3d",
   "metadata": {},
   "outputs": [
    {
     "data": {
      "text/plain": [
       "(6300000,)"
      ]
     },
     "execution_count": 59,
     "metadata": {},
     "output_type": "execute_result"
    }
   ],
   "source": [
    "#load cortical dseg data\n",
    "cortical_dseg = nib.load('../subcorticalparc_smk/results/diffparc/sub-exvivo/sub-exvivo_space-individual_res-dwi_label-paxinos_dseg.nii.gz')\n",
    "\n",
    "cortical_dseg_vol = cortical_dseg.get_fdata()\n",
    "cortical_dseg_flat = cortical_dseg_vol.flatten()\n",
    "cortical_dseg_flat.shape"
   ]
  },
  {
   "cell_type": "markdown",
   "id": "5047ad2b-13ea-4580-8a83-950d44993f8f",
   "metadata": {},
   "source": [
    "## Analysis\n",
    "\n",
    "### Left\n",
    "#### Target"
   ]
  },
  {
   "cell_type": "code",
   "execution_count": 15,
   "id": "19668788-0ac9-4186-855b-fe97322ca3db",
   "metadata": {},
   "outputs": [],
   "source": [
    "data_L = np.load(f\"../subcorticalparc_smk/results/diffparc/tpl-MNI152NLin6Asym/tpl-MNI152NLin6Asym_hemi-L_label-ZIR_desc-concat_from-group_connMap.npz\");\n",
    "\n",
    "conn_group_L = data_L['conn_group']\n",
    "mask_L = data_L['mask']\n",
    "affine_L = data_L['affine']\n",
    "\n",
    "# Concat subjects\n",
    "conn_group_m_L = np.moveaxis(conn_group_L, 0, 2)\n",
    "conn_concat_L = conn_group_m_L.reshape(\n",
    "    [conn_group_m_L.shape[0], conn_group_m_L.shape[1]*conn_group_m_L.shape[2]]\n",
    ")"
   ]
  },
  {
   "cell_type": "code",
   "execution_count": 16,
   "id": "da5b355c-eb5a-49db-932c-2be0d37277f6",
   "metadata": {},
   "outputs": [],
   "source": [
    "# Run spectral clustering\n",
    "method = 'spectralcosine'\n",
    "dist = 'cosine'\n",
    "k = 6 #@param {type:\"slider\", min:0, max:50, step:1}\n",
    "\n",
    "clustering_L = SpectralClustering(\n",
    "    n_clusters=k, \n",
    "    assign_labels=\"discretize\",\n",
    "    random_state=1,\n",
    "    affinity=dist,\n",
    ").fit(conn_concat_L)"
   ]
  },
  {
   "cell_type": "code",
   "execution_count": 17,
   "id": "8d35b815-8ba2-409a-b5b9-1c032f515060",
   "metadata": {},
   "outputs": [
    {
     "name": "stdout",
     "output_type": "stream",
     "text": [
      "shape conn_avg: (865, 116)\n",
      "shape conn_concat: (865, 116)\n"
     ]
    }
   ],
   "source": [
    "# avg over subjects (for cluster centroid visualization over cortex)\n",
    "conn_avg_L =  np.squeeze(np.mean(conn_group_m_L, 2))\n",
    "\n",
    "# Cluster\n",
    "ntargets_L = conn_group_L.shape[2]\n",
    "centroids_L = np.zeros((k,ntargets_L))\n",
    "\n",
    "print(f\"shape conn_avg: {conn_avg_L.shape}\")\n",
    "print(f\"shape conn_concat: {conn_concat_L.shape}\")"
   ]
  },
  {
   "cell_type": "code",
   "execution_count": 65,
   "id": "e362dc19-bbdf-4342-9fac-17bf38950d45",
   "metadata": {},
   "outputs": [
    {
     "data": {
      "text/html": [
       "<div>\n",
       "<style scoped>\n",
       "    .dataframe tbody tr th:only-of-type {\n",
       "        vertical-align: middle;\n",
       "    }\n",
       "\n",
       "    .dataframe tbody tr th {\n",
       "        vertical-align: top;\n",
       "    }\n",
       "\n",
       "    .dataframe thead th {\n",
       "        text-align: right;\n",
       "    }\n",
       "</style>\n",
       "<table border=\"1\" class=\"dataframe\">\n",
       "  <thead>\n",
       "    <tr style=\"text-align: right;\">\n",
       "      <th></th>\n",
       "      <th>label_num</th>\n",
       "      <th>name</th>\n",
       "    </tr>\n",
       "  </thead>\n",
       "  <tbody>\n",
       "    <tr>\n",
       "      <th>0</th>\n",
       "      <td>1</td>\n",
       "      <td>A1_2</td>\n",
       "    </tr>\n",
       "    <tr>\n",
       "      <th>1</th>\n",
       "      <td>2</td>\n",
       "      <td>A10</td>\n",
       "    </tr>\n",
       "    <tr>\n",
       "      <th>2</th>\n",
       "      <td>3</td>\n",
       "      <td>A11</td>\n",
       "    </tr>\n",
       "    <tr>\n",
       "      <th>3</th>\n",
       "      <td>4</td>\n",
       "      <td>A13L</td>\n",
       "    </tr>\n",
       "    <tr>\n",
       "      <th>4</th>\n",
       "      <td>5</td>\n",
       "      <td>A13M</td>\n",
       "    </tr>\n",
       "    <tr>\n",
       "      <th>...</th>\n",
       "      <td>...</td>\n",
       "      <td>...</td>\n",
       "    </tr>\n",
       "    <tr>\n",
       "      <th>111</th>\n",
       "      <td>131</td>\n",
       "      <td>V4T</td>\n",
       "    </tr>\n",
       "    <tr>\n",
       "      <th>112</th>\n",
       "      <td>132</td>\n",
       "      <td>V5</td>\n",
       "    </tr>\n",
       "    <tr>\n",
       "      <th>113</th>\n",
       "      <td>133</td>\n",
       "      <td>V6</td>\n",
       "    </tr>\n",
       "    <tr>\n",
       "      <th>114</th>\n",
       "      <td>134</td>\n",
       "      <td>V6A</td>\n",
       "    </tr>\n",
       "    <tr>\n",
       "      <th>115</th>\n",
       "      <td>135</td>\n",
       "      <td>VIP</td>\n",
       "    </tr>\n",
       "  </tbody>\n",
       "</table>\n",
       "<p>116 rows × 2 columns</p>\n",
       "</div>"
      ],
      "text/plain": [
       "     label_num  name\n",
       "0            1  A1_2\n",
       "1            2   A10\n",
       "2            3   A11\n",
       "3            4  A13L\n",
       "4            5  A13M\n",
       "..         ...   ...\n",
       "111        131   V4T\n",
       "112        132    V5\n",
       "113        133    V6\n",
       "114        134   V6A\n",
       "115        135   VIP\n",
       "\n",
       "[116 rows x 2 columns]"
      ]
     },
     "execution_count": 65,
     "metadata": {},
     "output_type": "execute_result"
    }
   ],
   "source": [
    "df_paxinos"
   ]
  },
  {
   "cell_type": "code",
   "execution_count": 66,
   "id": "eb9f21a1-b268-4daa-bf78-e4a6760bd1a3",
   "metadata": {},
   "outputs": [
    {
     "name": "stderr",
     "output_type": "stream",
     "text": [
      "/tmp/ipykernel_311660/3633250052.py:18: RuntimeWarning: divide by zero encountered in log\n",
      "  cortconn_flat[cortical_dseg_flat == paxinos_lut[i-1] ] = np.log(conn)\n"
     ]
    },
    {
     "data": {
      "image/png": "[encoded data removed]",
      "text/plain": [
       "<Figure size 640x480 with 1 Axes>"
      ]
     },
     "metadata": {},
     "output_type": "display_data"
    }
   ],
   "source": [
    "# Get features for each label and average over voxwels\n",
    "\n",
    "\n",
    "df_paxinos = pd.read_csv('../subcorticalparc_smk/resources/label-paxinos_dseg.tsv',sep='\\t')\n",
    "paxinos_lut = df_paxinos.label_num.to_numpy()\n",
    "paxinos_lut\n",
    "\n",
    "cortconn_flat = np.zeros(cortical_dseg_flat.shape)\n",
    "\n",
    "\n",
    "for kidx in range(k):\n",
    "    centroids_L[kidx][:] = np.mean(conn_avg_L[clustering_L.labels_ == kidx][:], axis=0)\n",
    "    \n",
    "    # Plot for centroid\n",
    "    plt.plot(centroids_L[kidx])\n",
    "\n",
    "    for i,conn in enumerate(centroids_L[kidx][:]):\n",
    "        cortconn_flat[cortical_dseg_flat == paxinos_lut[i-1] ] = np.log(conn)\n",
    "\n",
    "    cortconn_vol = cortconn_flat.reshape(cortical_dseg_vol.shape)\n",
    "\n",
    "    cortconn_vol.shape\n",
    "    cortconn_nib = nib.Nifti1Image(cortconn_vol,header=cortical_dseg.header,affine=cortical_dseg.affine)\n",
    "    cortconn_nib.to_filename(f'sub-exvivo_clus-{kidx}_k-{k}_desc-log10_centroid.nii.gz')\n",
    "\n",
    "# use lh_mmp to map to the maximal region from each centroid\n",
    "#target_labels_L = np.argmax(centroids_L, 0) + 1\n",
    "\n",
    "#lh_mmp indices are from 1 to 180 (0 is bgnd), so:\n",
    "#centroid_cortex_L = target_labels_L[lh_mmp-1]\n",
    "#centroid_cortex_L[np.argwhere(lh_mmp == 0)] = 0\n"
   ]
  },
  {
   "cell_type": "code",
   "execution_count": 62,
   "id": "ecee7ffc-8834-45de-bd7f-2a262491a7b4",
   "metadata": {},
   "outputs": [],
   "source": [
    "\n"
   ]
  },
  {
   "cell_type": "code",
   "execution_count": 27,
   "id": "17c8fdff-613f-475e-bef5-18d1daedb3f2",
   "metadata": {},
   "outputs": [],
   "source": [
    "# Download fsaverage surface\n",
    "#fsaverage_data = nilearn.datasets.fetch_surf_fsaverage(\n",
    "#    mesh=\"fsaverage\",\n",
    "#    data_dir=\"../resources/fsaverage\"\n",
    "#)"
   ]
  },
  {
   "cell_type": "markdown",
   "id": "4c012c3d-2616-4356-9615-f1cb4592f58b",
   "metadata": {},
   "source": [
    "#### Seed"
   ]
  },
  {
   "cell_type": "code",
   "execution_count": 59,
   "id": "f96b0a18-201a-4fab-a482-4ea7300b59a6",
   "metadata": {},
   "outputs": [],
   "source": [
    "seed_labels_vol_L = np.zeros(mask_L.shape)\n",
    "seed_labels_vol_L[mask_L > 0] = clustering_L.labels_ + 1 #add a 1 so label 0 is diff from bgnd\n",
    "seed_labels_nib_L = nib.Nifti1Image(seed_labels_vol_L, affine_L)\n",
    "\n",
    "bg_nib_L = nib.load('/home/ROBARTS/tkai/graham/projects/ctb-akhanf/jclau/zona_OSF/OSF/SNSX32NLin2020Asym/sub-SNSX32NLin2020Asym_T1map.nii.gz')"
   ]
  },
  {
   "cell_type": "code",
   "execution_count": 37,
   "id": "6df73d21-eeff-4766-aedc-225351415caa",
   "metadata": {},
   "outputs": [],
   "source": [
    "bg_nib_mtr = nib.load('../../marmbrainmap_preproc/results/sub-exvivo/anat/sub-exvivo_space-dwi_desc-ds_MTR.nii.gz')"
   ]
  },
  {
   "cell_type": "code",
   "execution_count": 60,
   "id": "1c812273-3ac0-4d2b-8fec-ce351f1d8c42",
   "metadata": {},
   "outputs": [],
   "source": [
    "# Slices need to be updated\n",
    "seed_labels_crop_L = seed_labels_nib_L.slicer[130:160, 140:180, 80:120]\n",
    "bg_crop_L = bg_nib_L.slicer[140:180, 130:160, 80:180]"
   ]
  },
  {
   "cell_type": "markdown",
   "id": "d36a61eb-e38b-48cc-90c1-c08ab942d3ae",
   "metadata": {},
   "source": [
    "## Figures"
   ]
  },
  {
   "cell_type": "code",
   "execution_count": 84,
   "id": "4232d553-7035-4663-91e1-84627f263d60",
   "metadata": {},
   "outputs": [],
   "source": [
    "custom_cmap = ListedColormap(cb_color_cycle[:k+1], name=\"custom_cmap\")"
   ]
  },
  {
   "cell_type": "code",
   "execution_count": 85,
   "id": "b8282e0a-a803-46f3-9d95-b274a310fe24",
   "metadata": {
    "tags": []
   },
   "outputs": [],
   "source": [
    "view_L = nilearn.plotting.view_surf(surf_mesh=fsaverage_data.get(\"pial_left\"),\n",
    "                                  surf_map=centroid_cortex_L,\n",
    "                                  cmap=custom_cmap,\n",
    "                                  vmin=0, vmax=k,\n",
    "                                  symmetric_cmap=False,\n",
    "                                  colorbar_fontsize=15)\n",
    "view_L.open_in_browser()"
   ]
  },
  {
   "cell_type": "code",
   "execution_count": 86,
   "id": "137d1350-90e0-4dec-b7bb-8580a3284c32",
   "metadata": {},
   "outputs": [],
   "source": [
    "# Use cropped image\n",
    "view_L = nilearn.plotting.view_img(\n",
    "    stat_map_img=seed_labels_crop_L,\n",
    "    bg_img=None,\n",
    "    cmap=custom_cmap,\n",
    "    vmin=0, vmax=k,\n",
    "    symmetric_cmap=False,\n",
    "    threshold=None,\n",
    "    colorbar_fontsize=15\n",
    ")\n",
    "\n",
    "view_L.open_in_browser()"
   ]
  },
  {
   "cell_type": "markdown",
   "id": "639d0c4d-5db5-4b68-a8d2-56767f310d2c",
   "metadata": {},
   "source": [
    "### Right\n",
    "#### Target"
   ]
  },
  {
   "cell_type": "code",
   "execution_count": 87,
   "id": "ea744a49-6eef-4fae-8abc-1a173dcd3e75",
   "metadata": {},
   "outputs": [],
   "source": [
    "data_R = np.load(f\"../results/diffparc/tpl-MNI152NLin6Asym/tpl-MNI152NLin6Asym_hemi-R_label-ZIR_desc-concat_from-group_connMap.npz\");\n",
    "\n",
    "conn_group_R = data_R['conn_group']\n",
    "mask_R = data_R['mask']\n",
    "affine_R = data_R['affine']\n",
    "\n",
    "# Concat subjects\n",
    "conn_group_m_R = np.moveaxis(conn_group_R, 0, 2)\n",
    "conn_concat_R = conn_group_m_R.reshape(\n",
    "    [conn_group_m_R.shape[0], conn_group_m_R.shape[1]*conn_group_m_R.shape[2]]\n",
    ")"
   ]
  },
  {
   "cell_type": "code",
   "execution_count": 88,
   "id": "42a04e07-ad88-46d9-8a50-fb6f270e1841",
   "metadata": {},
   "outputs": [],
   "source": [
    "# Run spectral clustering\n",
    "method = 'spectralcosine'\n",
    "dist = 'cosine'\n",
    "k = 6 #@param {type:\"slider\", min:0, max:50, step:1}\n",
    "\n",
    "clustering_R = SpectralClustering(\n",
    "    n_clusters=k, \n",
    "    assign_labels=\"discretize\",\n",
    "    random_state=1,\n",
    "    affinity=dist,\n",
    ").fit(conn_concat_R)"
   ]
  },
  {
   "cell_type": "code",
   "execution_count": 89,
   "id": "74c774d2-ddfc-48a9-b3ae-4b6b9b0c8ec6",
   "metadata": {},
   "outputs": [
    {
     "name": "stdout",
     "output_type": "stream",
     "text": [
      "shape conn_avg: (1661, 180)\n",
      "shape conn_concat: (1661, 31140)\n"
     ]
    }
   ],
   "source": [
    "# avg over subjects (for cluster centroid visualization over cortex)\n",
    "conn_avg_R =  np.squeeze(np.mean(conn_group_m_R, 2))\n",
    "\n",
    "# Cluster\n",
    "ntargets_R = conn_group_R.shape[2]\n",
    "centroids_R = np.zeros((k,ntargets_R))\n",
    "\n",
    "print(f\"shape conn_avg: {conn_avg_R.shape}\")\n",
    "print(f\"shape conn_concat: {conn_concat_R.shape}\")"
   ]
  },
  {
   "cell_type": "code",
   "execution_count": 90,
   "id": "ec51e54e-8055-4513-96e1-0781e0eef625",
   "metadata": {},
   "outputs": [
    {
     "data": {
      "image/png": "[encoded data removed]",
      "text/plain": [
       "<Figure size 640x480 with 1 Axes>"
      ]
     },
     "metadata": {},
     "output_type": "display_data"
    }
   ],
   "source": [
    "   # Sort centroids and labels\n",
    "for kidx in range(k):\n",
    "    centroids_R[kidx][:] = np.mean(conn_avg_R[clustering_R.labels_ == kidx][:], axis=0)\n",
    "sorted_labels = pairwise_distances_argmin(centroids_R, centroids_L)\n",
    "temp = clustering_R.labels_.copy()\n",
    "temp[:] = k + 1\n",
    "for kidx, new_label in enumerate(sorted_labels):\n",
    "    temp[np.argwhere(clustering_R.labels_ == kidx)] = new_label\n",
    "clustering_R.labels_ = temp.copy()\n",
    "del temp\n",
    "\n",
    "# Get features for each label and average over voxwels\n",
    "for kidx in range(k):\n",
    "    centroids_R[kidx][:] = np.mean(conn_avg_R[clustering_R.labels_ == kidx][:], axis=0)\n",
    "    \n",
    "    # Plot for centroid\n",
    "    plt.plot(centroids_R[kidx])\n",
    "\n",
    "# use lh_mmp to map to the maximal region from each centroid\n",
    "target_labels_R = np.argmax(centroids_R, 0) + 1\n",
    "\n",
    "#lh_mmp indices are from 1 to 180 (0 is bgnd), so:\n",
    "centroid_cortex_R = target_labels_R[rh_mmp-1]\n",
    "centroid_cortex_R[np.argwhere(rh_mmp == 0)] = 0"
   ]
  },
  {
   "cell_type": "code",
   "execution_count": 91,
   "id": "5bf10d43-66f5-46c1-9d58-59c9fea12010",
   "metadata": {},
   "outputs": [],
   "source": [
    "# Download fsaverage surface\n",
    "fsaverage_data = nilearn.datasets.fetch_surf_fsaverage(\n",
    "    mesh=\"fsaverage\",\n",
    "    data_dir=\"../resources/fsaverage\"\n",
    ")"
   ]
  },
  {
   "cell_type": "markdown",
   "id": "012c818c-e1aa-4c39-9e90-5a6661ce17bc",
   "metadata": {},
   "source": [
    "#### Seed"
   ]
  },
  {
   "cell_type": "code",
   "execution_count": 92,
   "id": "653e566b-3b45-4489-b40a-748dfadbf241",
   "metadata": {},
   "outputs": [],
   "source": [
    "seed_labels_vol_R = np.zeros(mask_R.shape)\n",
    "seed_labels_vol_R[mask_R > 0] = clustering_R.labels_ + 1 #add a 1 so label 0 is diff from bgnd\n",
    "seed_labels_nib_R = nib.Nifti1Image(seed_labels_vol_R, affine_R)\n",
    "\n",
    "bg_nib_R = nib.load('/home/ROBARTS/tkai/graham/projects/ctb-akhanf/jclau/zona_OSF/OSF/SNSX32NLin2020Asym/sub-SNSX32NLin2020Asym_T1map.nii.gz')"
   ]
  },
  {
   "cell_type": "code",
   "execution_count": 93,
   "id": "50809837-1020-414e-bccd-ff40a9cb183b",
   "metadata": {},
   "outputs": [],
   "source": [
    "# Slices need to be updated\n",
    "seed_labels_crop_R = seed_labels_nib_R.slicer[140:180, 130:160, 80:120]\n",
    "bg_crop_R = bg_nib_R.slicer[140:180, 130:160, 0:40]"
   ]
  },
  {
   "cell_type": "markdown",
   "id": "d42afe45-f618-4396-a12f-ca5cd770d77c",
   "metadata": {},
   "source": [
    "## Figures"
   ]
  },
  {
   "cell_type": "code",
   "execution_count": 94,
   "id": "6002e79a-511e-4187-88a5-53f13f6fb6b4",
   "metadata": {
    "tags": []
   },
   "outputs": [],
   "source": [
    "view_R = nilearn.plotting.view_surf(surf_mesh=fsaverage_data.get(\"pial_right\"),\n",
    "                                  surf_map=centroid_cortex_R,\n",
    "                                  cmap=custom_cmap,\n",
    "                                  vmin=0, vmax=k,\n",
    "                                  symmetric_cmap=False,\n",
    "                                  colorbar_fontsize=15)\n",
    "view_R.open_in_browser()"
   ]
  },
  {
   "cell_type": "code",
   "execution_count": 33,
   "id": "05155711-c3a3-45ed-acc1-c69646c13b14",
   "metadata": {},
   "outputs": [],
   "source": [
    "# Use cropped image\n",
    "view_R = nilearn.plotting.view_img(\n",
    "    stat_map_img=seed_labels_nib_R,\n",
    "    bg_img=None,\n",
    "    cmap=custom_cmap,\n",
    "    vmin=0, vmax=k,\n",
    "    symmetric_cmap=False,\n",
    "    threshold=None,\n",
    "    colorbar_fontsize=15,\n",
    "    draw_cross=False,\n",
    ")\n",
    "\n",
    "view_R.open_in_browser()"
   ]
  },
  {
   "cell_type": "markdown",
   "id": "69eb930c-72db-4ee3-a728-c6c384b2c5a0",
   "metadata": {},
   "source": [
    "### Right"
   ]
  },
  {
   "cell_type": "code",
   "execution_count": null,
   "id": "a1039e60-6182-4488-aeda-aa718a0f8401",
   "metadata": {},
   "outputs": [],
   "source": [
    "data_R = np.load(f\"{DATA_PATH}/{DATA_FNAME}\");\n",
    "\n",
    "conn_group = data_R['conn_group']\n",
    "mask = data_R['mask']\n",
    "affine = data_R['affine']\n",
    "\n",
    "# Concat subjects\n",
    "conn_group_m = np.moveaxis(conn_group, 0, 2)\n",
    "conn_concat = conn_group_m.reshape(\n",
    "    [conn_group_m.shape[0], conn_group_m.shape[1]*conn_group_m.shape[2]]\n",
    ")"
   ]
  },
  {
   "cell_type": "code",
   "execution_count": null,
   "id": "4a7d26d2-ad85-47da-a2ed-27b09015b31f",
   "metadata": {},
   "outputs": [],
   "source": [
    "# Run spectral clustering\n",
    "method = 'spectralcosine'\n",
    "dist = 'cosine'\n",
    "k = 6 #@param {type:\"slider\", min:0, max:50, step:1}\n",
    "\n",
    "clustering = SpectralClustering(\n",
    "    n_clusters=k, \n",
    "    assign_labels=\"discretize\",\n",
    "    random_state=1,\n",
    "    affinity=dist,\n",
    ").fit(conn_concat)"
   ]
  },
  {
   "cell_type": "code",
   "execution_count": null,
   "id": "d7ff0883-8aef-4c5c-a56d-0b5cc38862e3",
   "metadata": {},
   "outputs": [
    {
     "name": "stdout",
     "output_type": "stream",
     "text": [
      "shape conn_avg: (1669, 180)\n",
      "shape conn_concat: (1669, 31140)\n"
     ]
    }
   ],
   "source": [
    "# avg over subjects (for cluster centroid visualization over cortex)\n",
    "conn_avg =  np.squeeze(np.mean(conn_group_m, 2))\n",
    "\n",
    "# Cluster\n",
    "ntargets = conn_group.shape[2]\n",
    "centroids = np.zeros((k,ntargets))\n",
    "\n",
    "print(f\"shape conn_avg: {conn_avg.shape}\")\n",
    "print(f\"shape conn_concat: {conn_concat.shape}\")"
   ]
  },
  {
   "cell_type": "code",
   "execution_count": null,
   "id": "bc04cff0-2ac1-4386-96a6-3a96fbae927e",
   "metadata": {},
   "outputs": [
    {
     "data": {
      "image/png": "[encoded data removed]",
      "text/plain": [
       "<Figure size 640x480 with 1 Axes>"
      ]
     },
     "metadata": {},
     "output_type": "display_data"
    }
   ],
   "source": [
    "# Get features for each label and average over voxwels\n",
    "for kidx in range(k):\n",
    "    centroids[kidx][:] = np.mean(conn_avg[clustering.labels_ == kidx][:], axis=0)\n",
    "    \n",
    "    # Plot for centroid\n",
    "    plt.plot(centroids[kidx])\n",
    "\n",
    "# use lh_mmp to map to the maximal region from each centroid\n",
    "target_labels = np.argmax(centroids, 0) + 1\n",
    "\n",
    "#lh_mmp indices are from 1 to 180 (0 is bgnd), so:\n",
    "centroid_cortex = target_labels[lh_mmp-1]"
   ]
  },
  {
   "cell_type": "code",
   "execution_count": null,
   "id": "ae6368e9-38f0-4f5e-83e5-e303bf2e73c1",
   "metadata": {},
   "outputs": [],
   "source": [
    "# Download fsaverage surface\n",
    "fsaverage_data = nilearn.datasets.fetch_surf_fsaverage(\n",
    "    mesh=\"fsaverage\",\n",
    "    data_dir=\"../resources/fsaverage\"\n",
    ")"
   ]
  },
  {
   "cell_type": "markdown",
   "id": "09446a3a-1aaf-406e-b700-1eaa71174f26",
   "metadata": {},
   "source": [
    "#### Seed"
   ]
  },
  {
   "cell_type": "code",
   "execution_count": null,
   "id": "d324446a-5d7b-4eda-87a7-b9135ea93a6e",
   "metadata": {},
   "outputs": [],
   "source": [
    "seed_labels_vol = np.zeros(mask.shape)\n",
    "seed_labels_vol[mask > 0] = clustering.labels_ + 1 #add a 1 so label 0 is diff from bgnd\n",
    "seed_labels_nib = nib.Nifti1Image(seed_labels_vol,affine)\n",
    "\n",
    "bg_nib = nib.load('/home/ROBARTS/tkai/graham/projects/ctb-akhanf/jclau/zona_OSF/OSF/SNSX32NLin2020Asym/sub-SNSX32NLin2020Asym_T1map.nii.gz')"
   ]
  },
  {
   "cell_type": "code",
   "execution_count": null,
   "id": "fa0fc0cd-ae02-47ae-b8c1-59e06663c92f",
   "metadata": {},
   "outputs": [],
   "source": [
    "# Slices need to be updated\n",
    "seed_labels_crop = seed_labels_nib.slicer[130:160, 140:180, 80:120]\n",
    "bg_crop = bg_nib.slicer[140:180, 130:160, 80:180]"
   ]
  },
  {
   "cell_type": "markdown",
   "id": "8784551e-63df-4fc3-8b54-6f2018a7aec0",
   "metadata": {},
   "source": [
    "## Figures"
   ]
  },
  {
   "cell_type": "code",
   "execution_count": 15,
   "id": "d194b323-b5a2-4adc-99e7-d6545f5182bf",
   "metadata": {
    "tags": []
   },
   "outputs": [],
   "source": [
    "view = nilearn.plotting.view_surf(surf_mesh=fsaverage_data.get(\"pial_right\"),\n",
    "                                  surf_map=centroid_cortex,\n",
    "                                  cmap='tab10',\n",
    "                                  vmin=0, vmax=k,\n",
    "                                  symmetric_cmap=False,\n",
    "                                  colorbar_fontsize=15)\n",
    "view.open_in_browser()"
   ]
  },
  {
   "cell_type": "code",
   "execution_count": 17,
   "id": "d63f229f-cb41-460b-892a-7045dcd8e6ae",
   "metadata": {},
   "outputs": [],
   "source": [
    "# Use cropped image\n",
    "view = nilearn.plotting.view_img(\n",
    "    stat_map_img=seed_labels_crop,\n",
    "    bg_img=None,\n",
    "    cmap=\"tab10\",\n",
    "    vmin=0, vmax=k,\n",
    "    symmetric_cmap=False,\n",
    "    threshold=None,\n",
    "    colorbar_fontsize=15,\n",
    "    draw_cross=False,\n",
    ")\n",
    "\n",
    "view.open_in_browser()"
   ]
  }
 ],
 "metadata": {
  "kernelspec": {
   "display_name": "Python 3 (ipykernel)",
   "language": "python",
   "name": "python3"
  },
  "language_info": {
   "codemirror_mode": {
    "name": "ipython",
    "version": 3
   },
   "file_extension": ".py",
   "mimetype": "text/x-python",
   "name": "python",
   "nbconvert_exporter": "python",
   "pygments_lexer": "ipython3",
   "version": "3.8.10"
  }
 },
 "nbformat": 4,
 "nbformat_minor": 5
}
